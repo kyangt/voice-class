{
 "cells": [
  {
   "cell_type": "code",
   "execution_count": null,
   "metadata": {},
   "outputs": [],
   "source": [
    "import numpy as np\n",
    "import pandas as pd\n",
    "import matplotlib.pyplot as plt\n",
    "import seaborn\n",
    "\n",
    "import os\n",
    "print(os.listdir('./dataset/kaggle/kaggle-voice'))"
   ]
  },
  {
   "cell_type": "code",
   "execution_count": null,
   "metadata": {},
   "outputs": [],
   "source": [
    "# load the csv file\n",
    "data = pd.read_csv('./dataset/kaggle/kaggle-voice/voice.csv')\n",
    "# data.head()"
   ]
  },
  {
   "cell_type": "code",
   "execution_count": null,
   "metadata": {},
   "outputs": [],
   "source": [
    "# data.info()"
   ]
  },
  {
   "cell_type": "code",
   "execution_count": null,
   "metadata": {},
   "outputs": [],
   "source": [
    "# visualize data\n",
    "# seaborn.pairplot(data[['meanfreq', 'Q25', 'Q75', 'skew', 'centroid', 'label']],hue='label', size=3)"
   ]
  },
  {
   "cell_type": "code",
   "execution_count": null,
   "metadata": {},
   "outputs": [],
   "source": [
    "# shuffle data (original data had gender arranged in sequence)\n",
    "data = data.sample(frac=1, random_state=42)\n",
    "# data.head()"
   ]
  },
  {
   "cell_type": "code",
   "execution_count": null,
   "metadata": {},
   "outputs": [],
   "source": [
    "# encode gender label into 0 & 1\n",
    "data['label'] = data['label'].map({'male':1, 'female': 0})\n",
    "# data.head()"
   ]
  },
  {
   "cell_type": "code",
   "execution_count": null,
   "metadata": {},
   "outputs": [],
   "source": [
    "# input the axes\n",
    "X = data.loc[:, data.columns != 'label']\n",
    "Y = data.loc[:, 'label']\n",
    "# print('X:\\n{}'.format(X))\n",
    "# print('Y:\\n{}'.format(Y))"
   ]
  },
  {
   "cell_type": "code",
   "execution_count": null,
   "metadata": {},
   "outputs": [],
   "source": [
    "# standard scaling\n",
    "from sklearn.preprocessing import StandardScaler\n",
    "\n",
    "X = StandardScaler().fit_transform(X)"
   ]
  },
  {
   "cell_type": "code",
   "execution_count": null,
   "metadata": {},
   "outputs": [],
   "source": [
    "# train-test split\n",
    "from sklearn.model_selection import train_test_split\n",
    "\n",
    "X_train, X_test, Y_train, Y_test = train_test_split(X, Y, test_size=0.33, random_state=42)"
   ]
  },
  {
   "cell_type": "code",
   "execution_count": null,
   "metadata": {},
   "outputs": [],
   "source": [
    "# predict with logistic regression\n",
    "from sklearn.linear_model import LogisticRegression\n",
    "\n",
    "logreg = LogisticRegression(random_state=42, max_iter=150)\n",
    "print('train accuracy: {}'.format(logreg.fit(X_train, Y_train).score(X_train, Y_train)))\n",
    "print('test accuracy: {}'.format(logreg.fit(X_train, Y_train).score(X_test, Y_test)))"
   ]
  },
  {
   "cell_type": "code",
   "execution_count": null,
   "metadata": {},
   "outputs": [],
   "source": [
    "# predict with SVM\n",
    "from sklearn.svm import SVC\n",
    "\n",
    "svm = SVC(random_state=42)\n",
    "print('train accuracy: {}'.format(svm.fit(X_train, Y_train).score(X_train, Y_train)))\n",
    "print('test accuracy: {}'.format(svm.fit(X_train, Y_train).score(X_test, Y_test)))"
   ]
  },
  {
   "cell_type": "code",
   "execution_count": null,
   "metadata": {},
   "outputs": [],
   "source": [
    "# predict with random forest classifier\n",
    "from sklearn.ensemble import RandomForestClassifier\n",
    "\n",
    "random_forest = RandomForestClassifier(n_estimators=250, max_depth=15, random_state=42)\n",
    "print('train accuracy: {}'.format(random_forest.fit(X_train, Y_train).score(X_train, Y_train)))\n",
    "print('test accuracy: {}'.format(random_forest.fit(X_train, Y_train).score(X_test, Y_test)))"
   ]
  },
  {
   "cell_type": "code",
   "execution_count": null,
   "metadata": {},
   "outputs": [],
   "source": [
    "#  predict with decision tree classifier\n",
    "from sklearn.tree import DecisionTreeClassifier\n",
    "\n",
    "decision_tree = DecisionTreeClassifier()\n",
    "print('train accuracy: {}'.format(decision_tree.fit(X_train, Y_train).score(X_train, Y_train)))\n",
    "print('test accuracy: {}'.format(decision_tree.fit(X_train, Y_train).score(X_test, Y_test)))"
   ]
  },
  {
   "cell_type": "code",
   "execution_count": null,
   "metadata": {},
   "outputs": [],
   "source": [
    "# predict with KNN\n",
    "from sklearn.neighbors import KNeighborsClassifier\n",
    "\n",
    "knn = KNeighborsClassifier(n_neighbors=3)\n",
    "print('train accuracy: {}'.format(knn.fit(X_train, Y_train).score(X_train, Y_train)))\n",
    "print('test accuracy: {}'.format(knn.fit(X_train, Y_train).score(X_test, Y_test)))"
   ]
  }
 ],
 "metadata": {
  "language_info": {
   "codemirror_mode": {
    "name": "ipython",
    "version": 3
   },
   "file_extension": ".py",
   "mimetype": "text/x-python",
   "name": "python",
   "nbconvert_exporter": "python",
   "pygments_lexer": "ipython3",
   "version": "3.7.9-final"
  },
  "orig_nbformat": 2,
  "kernelspec": {
   "name": "python3",
   "display_name": "Python 3.7.9 64-bit ('voice': conda)",
   "metadata": {
    "interpreter": {
     "hash": "87fe49135817014968f3dee81874c48505cf7585dac27cc0857d2ffe58c2df4f"
    }
   }
  }
 },
 "nbformat": 4,
 "nbformat_minor": 2
}