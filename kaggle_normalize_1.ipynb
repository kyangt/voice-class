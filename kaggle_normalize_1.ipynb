{
 "cells": [
  {
   "cell_type": "code",
   "execution_count": 1,
   "metadata": {},
   "outputs": [
    {
     "output_type": "stream",
     "name": "stdout",
     "text": [
      "['voice.csv']\n"
     ]
    }
   ],
   "source": [
    "import numpy as np\n",
    "import pandas as pd\n",
    "import matplotlib.pyplot as plt\n",
    "import seaborn\n",
    "\n",
    "import os\n",
    "print(os.listdir('./dataset/kaggle/kaggle-voice'))"
   ]
  },
  {
   "cell_type": "code",
   "execution_count": 2,
   "metadata": {},
   "outputs": [
    {
     "output_type": "execute_result",
     "data": {
      "text/plain": [
       "   meanfreq        sd    median       Q25       Q75       IQR       skew  \\\n",
       "0  0.059781  0.064241  0.032027  0.015071  0.090193  0.075122  12.863462   \n",
       "1  0.066009  0.067310  0.040229  0.019414  0.092666  0.073252  22.423285   \n",
       "2  0.077316  0.083829  0.036718  0.008701  0.131908  0.123207  30.757155   \n",
       "3  0.151228  0.072111  0.158011  0.096582  0.207955  0.111374   1.232831   \n",
       "4  0.135120  0.079146  0.124656  0.078720  0.206045  0.127325   1.101174   \n",
       "\n",
       "          kurt    sp.ent       sfm  ...  centroid   meanfun    minfun  \\\n",
       "0   274.402906  0.893369  0.491918  ...  0.059781  0.084279  0.015702   \n",
       "1   634.613855  0.892193  0.513724  ...  0.066009  0.107937  0.015826   \n",
       "2  1024.927705  0.846389  0.478905  ...  0.077316  0.098706  0.015656   \n",
       "3     4.177296  0.963322  0.727232  ...  0.151228  0.088965  0.017798   \n",
       "4     4.333713  0.971955  0.783568  ...  0.135120  0.106398  0.016931   \n",
       "\n",
       "     maxfun   meandom    mindom    maxdom   dfrange   modindx  label  \n",
       "0  0.275862  0.007812  0.007812  0.007812  0.000000  0.000000   male  \n",
       "1  0.250000  0.009014  0.007812  0.054688  0.046875  0.052632   male  \n",
       "2  0.271186  0.007990  0.007812  0.015625  0.007812  0.046512   male  \n",
       "3  0.250000  0.201497  0.007812  0.562500  0.554688  0.247119   male  \n",
       "4  0.266667  0.712812  0.007812  5.484375  5.476562  0.208274   male  \n",
       "\n",
       "[5 rows x 21 columns]"
      ],
      "text/html": "<div>\n<style scoped>\n    .dataframe tbody tr th:only-of-type {\n        vertical-align: middle;\n    }\n\n    .dataframe tbody tr th {\n        vertical-align: top;\n    }\n\n    .dataframe thead th {\n        text-align: right;\n    }\n</style>\n<table border=\"1\" class=\"dataframe\">\n  <thead>\n    <tr style=\"text-align: right;\">\n      <th></th>\n      <th>meanfreq</th>\n      <th>sd</th>\n      <th>median</th>\n      <th>Q25</th>\n      <th>Q75</th>\n      <th>IQR</th>\n      <th>skew</th>\n      <th>kurt</th>\n      <th>sp.ent</th>\n      <th>sfm</th>\n      <th>...</th>\n      <th>centroid</th>\n      <th>meanfun</th>\n      <th>minfun</th>\n      <th>maxfun</th>\n      <th>meandom</th>\n      <th>mindom</th>\n      <th>maxdom</th>\n      <th>dfrange</th>\n      <th>modindx</th>\n      <th>label</th>\n    </tr>\n  </thead>\n  <tbody>\n    <tr>\n      <th>0</th>\n      <td>0.059781</td>\n      <td>0.064241</td>\n      <td>0.032027</td>\n      <td>0.015071</td>\n      <td>0.090193</td>\n      <td>0.075122</td>\n      <td>12.863462</td>\n      <td>274.402906</td>\n      <td>0.893369</td>\n      <td>0.491918</td>\n      <td>...</td>\n      <td>0.059781</td>\n      <td>0.084279</td>\n      <td>0.015702</td>\n      <td>0.275862</td>\n      <td>0.007812</td>\n      <td>0.007812</td>\n      <td>0.007812</td>\n      <td>0.000000</td>\n      <td>0.000000</td>\n      <td>male</td>\n    </tr>\n    <tr>\n      <th>1</th>\n      <td>0.066009</td>\n      <td>0.067310</td>\n      <td>0.040229</td>\n      <td>0.019414</td>\n      <td>0.092666</td>\n      <td>0.073252</td>\n      <td>22.423285</td>\n      <td>634.613855</td>\n      <td>0.892193</td>\n      <td>0.513724</td>\n      <td>...</td>\n      <td>0.066009</td>\n      <td>0.107937</td>\n      <td>0.015826</td>\n      <td>0.250000</td>\n      <td>0.009014</td>\n      <td>0.007812</td>\n      <td>0.054688</td>\n      <td>0.046875</td>\n      <td>0.052632</td>\n      <td>male</td>\n    </tr>\n    <tr>\n      <th>2</th>\n      <td>0.077316</td>\n      <td>0.083829</td>\n      <td>0.036718</td>\n      <td>0.008701</td>\n      <td>0.131908</td>\n      <td>0.123207</td>\n      <td>30.757155</td>\n      <td>1024.927705</td>\n      <td>0.846389</td>\n      <td>0.478905</td>\n      <td>...</td>\n      <td>0.077316</td>\n      <td>0.098706</td>\n      <td>0.015656</td>\n      <td>0.271186</td>\n      <td>0.007990</td>\n      <td>0.007812</td>\n      <td>0.015625</td>\n      <td>0.007812</td>\n      <td>0.046512</td>\n      <td>male</td>\n    </tr>\n    <tr>\n      <th>3</th>\n      <td>0.151228</td>\n      <td>0.072111</td>\n      <td>0.158011</td>\n      <td>0.096582</td>\n      <td>0.207955</td>\n      <td>0.111374</td>\n      <td>1.232831</td>\n      <td>4.177296</td>\n      <td>0.963322</td>\n      <td>0.727232</td>\n      <td>...</td>\n      <td>0.151228</td>\n      <td>0.088965</td>\n      <td>0.017798</td>\n      <td>0.250000</td>\n      <td>0.201497</td>\n      <td>0.007812</td>\n      <td>0.562500</td>\n      <td>0.554688</td>\n      <td>0.247119</td>\n      <td>male</td>\n    </tr>\n    <tr>\n      <th>4</th>\n      <td>0.135120</td>\n      <td>0.079146</td>\n      <td>0.124656</td>\n      <td>0.078720</td>\n      <td>0.206045</td>\n      <td>0.127325</td>\n      <td>1.101174</td>\n      <td>4.333713</td>\n      <td>0.971955</td>\n      <td>0.783568</td>\n      <td>...</td>\n      <td>0.135120</td>\n      <td>0.106398</td>\n      <td>0.016931</td>\n      <td>0.266667</td>\n      <td>0.712812</td>\n      <td>0.007812</td>\n      <td>5.484375</td>\n      <td>5.476562</td>\n      <td>0.208274</td>\n      <td>male</td>\n    </tr>\n  </tbody>\n</table>\n<p>5 rows × 21 columns</p>\n</div>"
     },
     "metadata": {},
     "execution_count": 2
    }
   ],
   "source": [
    "# load the csv file\n",
    "data = pd.read_csv('./dataset/kaggle/kaggle-voice/voice.csv')\n",
    "data.head()"
   ]
  },
  {
   "cell_type": "code",
   "execution_count": null,
   "metadata": {},
   "outputs": [],
   "source": [
    "data.info()"
   ]
  },
  {
   "cell_type": "code",
   "execution_count": null,
   "metadata": {},
   "outputs": [],
   "source": [
    "# visualize data\n",
    "seaborn.pairplot(data[['meanfreq', 'Q25', 'Q75', 'skew', 'centroid', 'label']],hue='label', size=3)"
   ]
  },
  {
   "cell_type": "code",
   "execution_count": 3,
   "metadata": {},
   "outputs": [
    {
     "output_type": "execute_result",
     "data": {
      "text/plain": [
       "      meanfreq        sd    median       Q25       Q75       IQR      skew  \\\n",
       "1231  0.186404  0.062801  0.167217  0.135497  0.249846  0.114350  1.444145   \n",
       "2098  0.184597  0.029758  0.183613  0.175596  0.196973  0.021377  3.616509   \n",
       "1309  0.182672  0.055121  0.199367  0.124494  0.216203  0.091709  2.451859   \n",
       "2037  0.181434  0.052919  0.185985  0.161290  0.211192  0.049903  2.537123   \n",
       "776   0.169796  0.061886  0.181503  0.110480  0.219207  0.108727  1.442787   \n",
       "\n",
       "           kurt    sp.ent       sfm  ...  centroid   meanfun    minfun  \\\n",
       "1231   4.774041  0.911353  0.424355  ...  0.186404  0.127224  0.047431   \n",
       "2098  18.248055  0.831206  0.214454  ...  0.184597  0.175481  0.015702   \n",
       "1309  10.201247  0.891649  0.342079  ...  0.182672  0.120814  0.047151   \n",
       "2037  11.025184  0.910527  0.468917  ...  0.181434  0.143612  0.017448   \n",
       "776    5.257836  0.938946  0.574297  ...  0.169796  0.106667  0.016736   \n",
       "\n",
       "        maxfun   meandom    mindom    maxdom   dfrange   modindx   label  \n",
       "1231  0.279070  1.096875  0.023438  4.968750  4.945312  0.103544    male  \n",
       "2098  0.275862  0.691301  0.070312  6.710938  6.640625  0.163361  female  \n",
       "1309  0.277457  0.663035  0.023438  4.312500  4.289062  0.082821    male  \n",
       "2037  0.213333  1.644176  0.226562  6.875000  6.648438  0.286229  female  \n",
       "776   0.253968  0.443685  0.093750  3.476562  3.382812  0.163370    male  \n",
       "\n",
       "[5 rows x 21 columns]"
      ],
      "text/html": "<div>\n<style scoped>\n    .dataframe tbody tr th:only-of-type {\n        vertical-align: middle;\n    }\n\n    .dataframe tbody tr th {\n        vertical-align: top;\n    }\n\n    .dataframe thead th {\n        text-align: right;\n    }\n</style>\n<table border=\"1\" class=\"dataframe\">\n  <thead>\n    <tr style=\"text-align: right;\">\n      <th></th>\n      <th>meanfreq</th>\n      <th>sd</th>\n      <th>median</th>\n      <th>Q25</th>\n      <th>Q75</th>\n      <th>IQR</th>\n      <th>skew</th>\n      <th>kurt</th>\n      <th>sp.ent</th>\n      <th>sfm</th>\n      <th>...</th>\n      <th>centroid</th>\n      <th>meanfun</th>\n      <th>minfun</th>\n      <th>maxfun</th>\n      <th>meandom</th>\n      <th>mindom</th>\n      <th>maxdom</th>\n      <th>dfrange</th>\n      <th>modindx</th>\n      <th>label</th>\n    </tr>\n  </thead>\n  <tbody>\n    <tr>\n      <th>1231</th>\n      <td>0.186404</td>\n      <td>0.062801</td>\n      <td>0.167217</td>\n      <td>0.135497</td>\n      <td>0.249846</td>\n      <td>0.114350</td>\n      <td>1.444145</td>\n      <td>4.774041</td>\n      <td>0.911353</td>\n      <td>0.424355</td>\n      <td>...</td>\n      <td>0.186404</td>\n      <td>0.127224</td>\n      <td>0.047431</td>\n      <td>0.279070</td>\n      <td>1.096875</td>\n      <td>0.023438</td>\n      <td>4.968750</td>\n      <td>4.945312</td>\n      <td>0.103544</td>\n      <td>male</td>\n    </tr>\n    <tr>\n      <th>2098</th>\n      <td>0.184597</td>\n      <td>0.029758</td>\n      <td>0.183613</td>\n      <td>0.175596</td>\n      <td>0.196973</td>\n      <td>0.021377</td>\n      <td>3.616509</td>\n      <td>18.248055</td>\n      <td>0.831206</td>\n      <td>0.214454</td>\n      <td>...</td>\n      <td>0.184597</td>\n      <td>0.175481</td>\n      <td>0.015702</td>\n      <td>0.275862</td>\n      <td>0.691301</td>\n      <td>0.070312</td>\n      <td>6.710938</td>\n      <td>6.640625</td>\n      <td>0.163361</td>\n      <td>female</td>\n    </tr>\n    <tr>\n      <th>1309</th>\n      <td>0.182672</td>\n      <td>0.055121</td>\n      <td>0.199367</td>\n      <td>0.124494</td>\n      <td>0.216203</td>\n      <td>0.091709</td>\n      <td>2.451859</td>\n      <td>10.201247</td>\n      <td>0.891649</td>\n      <td>0.342079</td>\n      <td>...</td>\n      <td>0.182672</td>\n      <td>0.120814</td>\n      <td>0.047151</td>\n      <td>0.277457</td>\n      <td>0.663035</td>\n      <td>0.023438</td>\n      <td>4.312500</td>\n      <td>4.289062</td>\n      <td>0.082821</td>\n      <td>male</td>\n    </tr>\n    <tr>\n      <th>2037</th>\n      <td>0.181434</td>\n      <td>0.052919</td>\n      <td>0.185985</td>\n      <td>0.161290</td>\n      <td>0.211192</td>\n      <td>0.049903</td>\n      <td>2.537123</td>\n      <td>11.025184</td>\n      <td>0.910527</td>\n      <td>0.468917</td>\n      <td>...</td>\n      <td>0.181434</td>\n      <td>0.143612</td>\n      <td>0.017448</td>\n      <td>0.213333</td>\n      <td>1.644176</td>\n      <td>0.226562</td>\n      <td>6.875000</td>\n      <td>6.648438</td>\n      <td>0.286229</td>\n      <td>female</td>\n    </tr>\n    <tr>\n      <th>776</th>\n      <td>0.169796</td>\n      <td>0.061886</td>\n      <td>0.181503</td>\n      <td>0.110480</td>\n      <td>0.219207</td>\n      <td>0.108727</td>\n      <td>1.442787</td>\n      <td>5.257836</td>\n      <td>0.938946</td>\n      <td>0.574297</td>\n      <td>...</td>\n      <td>0.169796</td>\n      <td>0.106667</td>\n      <td>0.016736</td>\n      <td>0.253968</td>\n      <td>0.443685</td>\n      <td>0.093750</td>\n      <td>3.476562</td>\n      <td>3.382812</td>\n      <td>0.163370</td>\n      <td>male</td>\n    </tr>\n  </tbody>\n</table>\n<p>5 rows × 21 columns</p>\n</div>"
     },
     "metadata": {},
     "execution_count": 3
    }
   ],
   "source": [
    "# shuffle data (original data had gender arranged in sequence)\n",
    "data = data.sample(frac=1)\n",
    "data.head()"
   ]
  },
  {
   "cell_type": "code",
   "execution_count": 4,
   "metadata": {},
   "outputs": [
    {
     "output_type": "execute_result",
     "data": {
      "text/plain": [
       "      meanfreq        sd    median       Q25       Q75       IQR      skew  \\\n",
       "1231  0.186404  0.062801  0.167217  0.135497  0.249846  0.114350  1.444145   \n",
       "2098  0.184597  0.029758  0.183613  0.175596  0.196973  0.021377  3.616509   \n",
       "1309  0.182672  0.055121  0.199367  0.124494  0.216203  0.091709  2.451859   \n",
       "2037  0.181434  0.052919  0.185985  0.161290  0.211192  0.049903  2.537123   \n",
       "776   0.169796  0.061886  0.181503  0.110480  0.219207  0.108727  1.442787   \n",
       "\n",
       "           kurt    sp.ent       sfm  ...  centroid   meanfun    minfun  \\\n",
       "1231   4.774041  0.911353  0.424355  ...  0.186404  0.127224  0.047431   \n",
       "2098  18.248055  0.831206  0.214454  ...  0.184597  0.175481  0.015702   \n",
       "1309  10.201247  0.891649  0.342079  ...  0.182672  0.120814  0.047151   \n",
       "2037  11.025184  0.910527  0.468917  ...  0.181434  0.143612  0.017448   \n",
       "776    5.257836  0.938946  0.574297  ...  0.169796  0.106667  0.016736   \n",
       "\n",
       "        maxfun   meandom    mindom    maxdom   dfrange   modindx  label  \n",
       "1231  0.279070  1.096875  0.023438  4.968750  4.945312  0.103544      1  \n",
       "2098  0.275862  0.691301  0.070312  6.710938  6.640625  0.163361      0  \n",
       "1309  0.277457  0.663035  0.023438  4.312500  4.289062  0.082821      1  \n",
       "2037  0.213333  1.644176  0.226562  6.875000  6.648438  0.286229      0  \n",
       "776   0.253968  0.443685  0.093750  3.476562  3.382812  0.163370      1  \n",
       "\n",
       "[5 rows x 21 columns]"
      ],
      "text/html": "<div>\n<style scoped>\n    .dataframe tbody tr th:only-of-type {\n        vertical-align: middle;\n    }\n\n    .dataframe tbody tr th {\n        vertical-align: top;\n    }\n\n    .dataframe thead th {\n        text-align: right;\n    }\n</style>\n<table border=\"1\" class=\"dataframe\">\n  <thead>\n    <tr style=\"text-align: right;\">\n      <th></th>\n      <th>meanfreq</th>\n      <th>sd</th>\n      <th>median</th>\n      <th>Q25</th>\n      <th>Q75</th>\n      <th>IQR</th>\n      <th>skew</th>\n      <th>kurt</th>\n      <th>sp.ent</th>\n      <th>sfm</th>\n      <th>...</th>\n      <th>centroid</th>\n      <th>meanfun</th>\n      <th>minfun</th>\n      <th>maxfun</th>\n      <th>meandom</th>\n      <th>mindom</th>\n      <th>maxdom</th>\n      <th>dfrange</th>\n      <th>modindx</th>\n      <th>label</th>\n    </tr>\n  </thead>\n  <tbody>\n    <tr>\n      <th>1231</th>\n      <td>0.186404</td>\n      <td>0.062801</td>\n      <td>0.167217</td>\n      <td>0.135497</td>\n      <td>0.249846</td>\n      <td>0.114350</td>\n      <td>1.444145</td>\n      <td>4.774041</td>\n      <td>0.911353</td>\n      <td>0.424355</td>\n      <td>...</td>\n      <td>0.186404</td>\n      <td>0.127224</td>\n      <td>0.047431</td>\n      <td>0.279070</td>\n      <td>1.096875</td>\n      <td>0.023438</td>\n      <td>4.968750</td>\n      <td>4.945312</td>\n      <td>0.103544</td>\n      <td>1</td>\n    </tr>\n    <tr>\n      <th>2098</th>\n      <td>0.184597</td>\n      <td>0.029758</td>\n      <td>0.183613</td>\n      <td>0.175596</td>\n      <td>0.196973</td>\n      <td>0.021377</td>\n      <td>3.616509</td>\n      <td>18.248055</td>\n      <td>0.831206</td>\n      <td>0.214454</td>\n      <td>...</td>\n      <td>0.184597</td>\n      <td>0.175481</td>\n      <td>0.015702</td>\n      <td>0.275862</td>\n      <td>0.691301</td>\n      <td>0.070312</td>\n      <td>6.710938</td>\n      <td>6.640625</td>\n      <td>0.163361</td>\n      <td>0</td>\n    </tr>\n    <tr>\n      <th>1309</th>\n      <td>0.182672</td>\n      <td>0.055121</td>\n      <td>0.199367</td>\n      <td>0.124494</td>\n      <td>0.216203</td>\n      <td>0.091709</td>\n      <td>2.451859</td>\n      <td>10.201247</td>\n      <td>0.891649</td>\n      <td>0.342079</td>\n      <td>...</td>\n      <td>0.182672</td>\n      <td>0.120814</td>\n      <td>0.047151</td>\n      <td>0.277457</td>\n      <td>0.663035</td>\n      <td>0.023438</td>\n      <td>4.312500</td>\n      <td>4.289062</td>\n      <td>0.082821</td>\n      <td>1</td>\n    </tr>\n    <tr>\n      <th>2037</th>\n      <td>0.181434</td>\n      <td>0.052919</td>\n      <td>0.185985</td>\n      <td>0.161290</td>\n      <td>0.211192</td>\n      <td>0.049903</td>\n      <td>2.537123</td>\n      <td>11.025184</td>\n      <td>0.910527</td>\n      <td>0.468917</td>\n      <td>...</td>\n      <td>0.181434</td>\n      <td>0.143612</td>\n      <td>0.017448</td>\n      <td>0.213333</td>\n      <td>1.644176</td>\n      <td>0.226562</td>\n      <td>6.875000</td>\n      <td>6.648438</td>\n      <td>0.286229</td>\n      <td>0</td>\n    </tr>\n    <tr>\n      <th>776</th>\n      <td>0.169796</td>\n      <td>0.061886</td>\n      <td>0.181503</td>\n      <td>0.110480</td>\n      <td>0.219207</td>\n      <td>0.108727</td>\n      <td>1.442787</td>\n      <td>5.257836</td>\n      <td>0.938946</td>\n      <td>0.574297</td>\n      <td>...</td>\n      <td>0.169796</td>\n      <td>0.106667</td>\n      <td>0.016736</td>\n      <td>0.253968</td>\n      <td>0.443685</td>\n      <td>0.093750</td>\n      <td>3.476562</td>\n      <td>3.382812</td>\n      <td>0.163370</td>\n      <td>1</td>\n    </tr>\n  </tbody>\n</table>\n<p>5 rows × 21 columns</p>\n</div>"
     },
     "metadata": {},
     "execution_count": 4
    }
   ],
   "source": [
    "# encode gender label into 0 & 1\n",
    "data['label'] = data['label'].map({'male':1, 'female': 0})\n",
    "data.head()"
   ]
  },
  {
   "cell_type": "code",
   "execution_count": 5,
   "metadata": {},
   "outputs": [
    {
     "output_type": "stream",
     "name": "stdout",
     "text": [
      "X:\n      meanfreq        sd    median       Q25       Q75       IQR      skew  \\\n1231  0.186404  0.062801  0.167217  0.135497  0.249846  0.114350  1.444145   \n2098  0.184597  0.029758  0.183613  0.175596  0.196973  0.021377  3.616509   \n1309  0.182672  0.055121  0.199367  0.124494  0.216203  0.091709  2.451859   \n2037  0.181434  0.052919  0.185985  0.161290  0.211192  0.049903  2.537123   \n776   0.169796  0.061886  0.181503  0.110480  0.219207  0.108727  1.442787   \n...        ...       ...       ...       ...       ...       ...       ...   \n2457  0.198508  0.067908  0.221290  0.186968  0.248387  0.061419  1.970768   \n1994  0.191765  0.067263  0.213502  0.180869  0.240594  0.059725  2.522097   \n1365  0.201977  0.056525  0.229658  0.145753  0.247877  0.102123  1.944455   \n2067  0.175185  0.057511  0.183543  0.164017  0.203264  0.039247  2.171320   \n1890  0.172286  0.062873  0.191490  0.158087  0.209808  0.051721  3.134383   \n\n           kurt    sp.ent       sfm      mode  centroid   meanfun    minfun  \\\n1231   4.774041  0.911353  0.424355  0.149203  0.186404  0.127224  0.047431   \n2098  18.248055  0.831206  0.214454  0.180177  0.184597  0.175481  0.015702   \n1309  10.201247  0.891649  0.342079  0.208671  0.182672  0.120814  0.047151   \n2037  11.025184  0.910527  0.468917  0.161119  0.181434  0.143612  0.017448   \n776    5.257836  0.938946  0.574297  0.215407  0.169796  0.106667  0.016736   \n...         ...       ...       ...       ...       ...       ...       ...   \n2457   6.390785  0.910603  0.503047  0.227161  0.198508  0.171276  0.047291   \n1994  10.465945  0.925769  0.560213  0.249984  0.191765  0.187180  0.016563   \n1365   7.194837  0.884457  0.253860  0.245000  0.201977  0.131586  0.047337   \n2067   7.285044  0.919647  0.530706  0.199554  0.175185  0.170602  0.015826   \n1890  14.262154  0.920399  0.574005  0.206575  0.172286  0.157403  0.023358   \n\n        maxfun   meandom    mindom    maxdom   dfrange   modindx  \n1231  0.279070  1.096875  0.023438  4.968750  4.945312  0.103544  \n2098  0.275862  0.691301  0.070312  6.710938  6.640625  0.163361  \n1309  0.277457  0.663035  0.023438  4.312500  4.289062  0.082821  \n2037  0.213333  1.644176  0.226562  6.875000  6.648438  0.286229  \n776   0.253968  0.443685  0.093750  3.476562  3.382812  0.163370  \n...        ...       ...       ...       ...       ...       ...  \n2457  0.279070  1.023074  0.023438  7.781250  7.757812  0.145254  \n1994  0.266667  0.354687  0.007812  4.859375  4.851562  0.074697  \n1365  0.274286  1.257622  0.023438  8.695312  8.671875  0.067793  \n2067  0.266667  0.180027  0.007812  0.273438  0.265625  0.116246  \n1890  0.271186  0.276242  0.007812  3.882812  3.875000  0.038797  \n\n[3168 rows x 20 columns]\nY:\n1231    1\n2098    0\n1309    1\n2037    0\n776     1\n       ..\n2457    0\n1994    0\n1365    1\n2067    0\n1890    0\nName: label, Length: 3168, dtype: int64\n"
     ]
    }
   ],
   "source": [
    "# input the axes\n",
    "X = data.loc[:, data.columns != 'label']\n",
    "Y = data.loc[:, 'label']\n",
    "print('X:\\n{}'.format(X))\n",
    "print('Y:\\n{}'.format(Y))"
   ]
  },
  {
   "cell_type": "code",
   "execution_count": 6,
   "metadata": {},
   "outputs": [
    {
     "output_type": "execute_result",
     "data": {
      "text/plain": [
       "      meanfreq        sd    median       Q25       Q75       IQR      skew  \\\n",
       "1231  0.694370  0.458549  0.624345  0.547381  0.897523  0.419880  0.037660   \n",
       "2098  0.685839  0.117585  0.689863  0.709651  0.668164  0.028692  0.100474   \n",
       "1309  0.676748  0.379296  0.752817  0.502856  0.751579  0.324618  0.066798   \n",
       "2037  0.670901  0.356572  0.699344  0.651756  0.729844  0.148716  0.069263   \n",
       "776   0.615947  0.449101  0.681433  0.446149  0.764611  0.396221  0.037620   \n",
       "\n",
       "          kurt    sp.ent       sfm      mode  centroid   meanfun    minfun  \\\n",
       "1231  0.002069  0.709701  0.480707  0.532867  0.694370  0.393577  0.193795   \n",
       "2098  0.012374  0.380344  0.220303  0.643490  0.685839  0.658621  0.030501   \n",
       "1309  0.006220  0.628729  0.378636  0.745253  0.676748  0.358367  0.192356   \n",
       "2037  0.006850  0.706306  0.535990  0.575426  0.670901  0.483582  0.039489   \n",
       "776   0.002439  0.823088  0.666725  0.769311  0.615947  0.280666  0.035826   \n",
       "\n",
       "        maxfun   meandom    mindom    maxdom   dfrange   modindx  \n",
       "1231  0.999749  0.369190  0.040860  0.226948  0.226395  0.111054  \n",
       "2098  0.981526  0.231701  0.144086  0.306648  0.304006  0.175210  \n",
       "1309  0.990585  0.222119  0.040860  0.196926  0.196352  0.088828  \n",
       "2037  0.626292  0.554724  0.488172  0.314153  0.304363  0.306989  \n",
       "776   0.857144  0.147760  0.195699  0.158685  0.154864  0.175219  "
      ],
      "text/html": "<div>\n<style scoped>\n    .dataframe tbody tr th:only-of-type {\n        vertical-align: middle;\n    }\n\n    .dataframe tbody tr th {\n        vertical-align: top;\n    }\n\n    .dataframe thead th {\n        text-align: right;\n    }\n</style>\n<table border=\"1\" class=\"dataframe\">\n  <thead>\n    <tr style=\"text-align: right;\">\n      <th></th>\n      <th>meanfreq</th>\n      <th>sd</th>\n      <th>median</th>\n      <th>Q25</th>\n      <th>Q75</th>\n      <th>IQR</th>\n      <th>skew</th>\n      <th>kurt</th>\n      <th>sp.ent</th>\n      <th>sfm</th>\n      <th>mode</th>\n      <th>centroid</th>\n      <th>meanfun</th>\n      <th>minfun</th>\n      <th>maxfun</th>\n      <th>meandom</th>\n      <th>mindom</th>\n      <th>maxdom</th>\n      <th>dfrange</th>\n      <th>modindx</th>\n    </tr>\n  </thead>\n  <tbody>\n    <tr>\n      <th>1231</th>\n      <td>0.694370</td>\n      <td>0.458549</td>\n      <td>0.624345</td>\n      <td>0.547381</td>\n      <td>0.897523</td>\n      <td>0.419880</td>\n      <td>0.037660</td>\n      <td>0.002069</td>\n      <td>0.709701</td>\n      <td>0.480707</td>\n      <td>0.532867</td>\n      <td>0.694370</td>\n      <td>0.393577</td>\n      <td>0.193795</td>\n      <td>0.999749</td>\n      <td>0.369190</td>\n      <td>0.040860</td>\n      <td>0.226948</td>\n      <td>0.226395</td>\n      <td>0.111054</td>\n    </tr>\n    <tr>\n      <th>2098</th>\n      <td>0.685839</td>\n      <td>0.117585</td>\n      <td>0.689863</td>\n      <td>0.709651</td>\n      <td>0.668164</td>\n      <td>0.028692</td>\n      <td>0.100474</td>\n      <td>0.012374</td>\n      <td>0.380344</td>\n      <td>0.220303</td>\n      <td>0.643490</td>\n      <td>0.685839</td>\n      <td>0.658621</td>\n      <td>0.030501</td>\n      <td>0.981526</td>\n      <td>0.231701</td>\n      <td>0.144086</td>\n      <td>0.306648</td>\n      <td>0.304006</td>\n      <td>0.175210</td>\n    </tr>\n    <tr>\n      <th>1309</th>\n      <td>0.676748</td>\n      <td>0.379296</td>\n      <td>0.752817</td>\n      <td>0.502856</td>\n      <td>0.751579</td>\n      <td>0.324618</td>\n      <td>0.066798</td>\n      <td>0.006220</td>\n      <td>0.628729</td>\n      <td>0.378636</td>\n      <td>0.745253</td>\n      <td>0.676748</td>\n      <td>0.358367</td>\n      <td>0.192356</td>\n      <td>0.990585</td>\n      <td>0.222119</td>\n      <td>0.040860</td>\n      <td>0.196926</td>\n      <td>0.196352</td>\n      <td>0.088828</td>\n    </tr>\n    <tr>\n      <th>2037</th>\n      <td>0.670901</td>\n      <td>0.356572</td>\n      <td>0.699344</td>\n      <td>0.651756</td>\n      <td>0.729844</td>\n      <td>0.148716</td>\n      <td>0.069263</td>\n      <td>0.006850</td>\n      <td>0.706306</td>\n      <td>0.535990</td>\n      <td>0.575426</td>\n      <td>0.670901</td>\n      <td>0.483582</td>\n      <td>0.039489</td>\n      <td>0.626292</td>\n      <td>0.554724</td>\n      <td>0.488172</td>\n      <td>0.314153</td>\n      <td>0.304363</td>\n      <td>0.306989</td>\n    </tr>\n    <tr>\n      <th>776</th>\n      <td>0.615947</td>\n      <td>0.449101</td>\n      <td>0.681433</td>\n      <td>0.446149</td>\n      <td>0.764611</td>\n      <td>0.396221</td>\n      <td>0.037620</td>\n      <td>0.002439</td>\n      <td>0.823088</td>\n      <td>0.666725</td>\n      <td>0.769311</td>\n      <td>0.615947</td>\n      <td>0.280666</td>\n      <td>0.035826</td>\n      <td>0.857144</td>\n      <td>0.147760</td>\n      <td>0.195699</td>\n      <td>0.158685</td>\n      <td>0.154864</td>\n      <td>0.175219</td>\n    </tr>\n  </tbody>\n</table>\n</div>"
     },
     "metadata": {},
     "execution_count": 6
    }
   ],
   "source": [
    "# normalization\n",
    "X = (X - np.min(X)) / (np.max(X) - np.min(X)).values\n",
    "X.head()"
   ]
  },
  {
   "cell_type": "code",
   "execution_count": 7,
   "metadata": {},
   "outputs": [],
   "source": [
    "# train-test split\n",
    "from sklearn.model_selection import train_test_split\n",
    "\n",
    "X_train, X_test, Y_train, Y_test = train_test_split(X, Y, test_size=0.33, random_state=42)"
   ]
  },
  {
   "cell_type": "code",
   "execution_count": 13,
   "metadata": {},
   "outputs": [
    {
     "output_type": "stream",
     "name": "stdout",
     "text": [
      "train accuracy: 0.969368520263902\ntest accuracy: 0.97131931166348\n"
     ]
    }
   ],
   "source": [
    "# predict with logistic regression\n",
    "from sklearn import linear_model\n",
    "\n",
    "logreg = linear_model.LogisticRegression(random_state=42, max_iter=150)\n",
    "print('train accuracy: {}'.format(logreg.fit(X_train, Y_train).score(X_train, Y_train)))\n",
    "print('test accuracy: {}'.format(logreg.fit(X_train, Y_train).score(X_test, Y_test)))"
   ]
  },
  {
   "cell_type": "code",
   "execution_count": 8,
   "metadata": {},
   "outputs": [
    {
     "output_type": "stream",
     "name": "stdout",
     "text": [
      "train accuracy: 0.9787935909519322\ntest accuracy: 0.9789674952198852\n"
     ]
    }
   ],
   "source": [
    "# predict with SVM\n",
    "from sklearn.svm import SVC\n",
    "\n",
    "svm = SVC(random_state=42)\n",
    "print('train accuracy: {}'.format(svm.fit(X_train, Y_train).score(X_train, Y_train)))\n",
    "print('test accuracy: {}'.format(svm.fit(X_train, Y_train).score(X_test, Y_test)))"
   ]
  },
  {
   "cell_type": "code",
   "execution_count": 9,
   "metadata": {},
   "outputs": [
    {
     "output_type": "stream",
     "name": "stdout",
     "text": [
      "train accuracy: 1.0\n",
      "test accuracy: 0.9770554493307839\n"
     ]
    }
   ],
   "source": [
    "# predict with random forest classifier\n",
    "from sklearn.ensemble import RandomForestClassifier\n",
    "\n",
    "random_forest = RandomForestClassifier(n_estimators=250, max_depth=15, random_state=42)\n",
    "print('train accuracy: {}'.format(random_forest.fit(X_train, Y_train).score(X_train, Y_train)))\n",
    "print('test accuracy: {}'.format(random_forest.fit(X_train, Y_train).score(X_test, Y_test)))"
   ]
  },
  {
   "cell_type": "code",
   "execution_count": 10,
   "metadata": {},
   "outputs": [
    {
     "output_type": "stream",
     "name": "stdout",
     "text": [
      "train accuracy: 1.0\ntest accuracy: 0.9684512428298279\n"
     ]
    }
   ],
   "source": [
    "#  predict with decision tree classifier\n",
    "from sklearn.tree import DecisionTreeClassifier\n",
    "\n",
    "decision_tree = DecisionTreeClassifier()\n",
    "print('train accuracy: {}'.format(decision_tree.fit(X_train, Y_train).score(X_train, Y_train)))\n",
    "print('test accuracy: {}'.format(decision_tree.fit(X_train, Y_train).score(X_test, Y_test)))"
   ]
  },
  {
   "cell_type": "code",
   "execution_count": 11,
   "metadata": {},
   "outputs": [
    {
     "output_type": "stream",
     "name": "stdout",
     "text": [
      "train accuracy: 0.9901036757775683\ntest accuracy: 0.9684512428298279\n"
     ]
    }
   ],
   "source": [
    "# predict with KNN\n",
    "from sklearn.neighbors import KNeighborsClassifier\n",
    "\n",
    "knn = KNeighborsClassifier(n_neighbors=3)\n",
    "print('train accuracy: {}'.format(knn.fit(X_train, Y_train).score(X_train, Y_train)))\n",
    "print('test accuracy: {}'.format(knn.fit(X_train, Y_train).score(X_test, Y_test)))"
   ]
  },
  {
   "cell_type": "code",
   "execution_count": 12,
   "metadata": {},
   "outputs": [
    {
     "output_type": "stream",
     "name": "stdout",
     "text": [
      "train accuracy: 0.8934967012252591\ntest accuracy: 0.8814531548757171\n"
     ]
    }
   ],
   "source": [
    "# predict with Naive Bayes\n",
    "\n",
    "from sklearn.naive_bayes import GaussianNB\n",
    "\n",
    "naive_bayes = GaussianNB()\n",
    "print('train accuracy: {}'.format(naive_bayes.fit(X_train, Y_train).score(X_train, Y_train)))\n",
    "print('test accuracy: {}'.format(naive_bayes.fit(X_train, Y_train).score(X_test, Y_test)))"
   ]
  },
  {
   "cell_type": "code",
   "execution_count": null,
   "metadata": {},
   "outputs": [],
   "source": [
    "# # predict with PCA\n",
    "# from sklearn.decomposition import PCA\n",
    "\n",
    "# pca = PCA()\n",
    "# print('train accuracy: {}'.format(pca.fit(X_train, Y_train).score(X_train, Y_train)))\n",
    "# print('test accuracy: {}'.format(pca.fit(X_train, Y_train).score(X_test, Y_test)))"
   ]
  }
 ],
 "metadata": {
  "language_info": {
   "codemirror_mode": {
    "name": "ipython",
    "version": 3
   },
   "file_extension": ".py",
   "mimetype": "text/x-python",
   "name": "python",
   "nbconvert_exporter": "python",
   "pygments_lexer": "ipython3",
   "version": "3.7.9-final"
  },
  "orig_nbformat": 2,
  "kernelspec": {
   "name": "python3",
   "display_name": "Python 3.7.9 64-bit ('voice': conda)",
   "metadata": {
    "interpreter": {
     "hash": "87fe49135817014968f3dee81874c48505cf7585dac27cc0857d2ffe58c2df4f"
    }
   }
  }
 },
 "nbformat": 4,
 "nbformat_minor": 2
}