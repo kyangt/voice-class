{
 "cells": [
  {
   "cell_type": "code",
   "execution_count": 1,
   "metadata": {},
   "outputs": [
    {
     "output_type": "stream",
     "name": "stdout",
     "text": "['voice.csv']\n"
    }
   ],
   "source": [
    "import numpy as np\n",
    "import pandas as pd\n",
    "import matplotlib.pyplot as plt\n",
    "import seaborn\n",
    "\n",
    "import os\n",
    "print(os.listdir('./dataset/kaggle/kaggle-voice'))"
   ]
  },
  {
   "cell_type": "code",
   "execution_count": 2,
   "metadata": {},
   "outputs": [],
   "source": [
    "# load the csv file\n",
    "data = pd.read_csv('./dataset/kaggle/kaggle-voice/voice.csv')\n",
    "# data.head()"
   ]
  },
  {
   "cell_type": "code",
   "execution_count": 3,
   "metadata": {},
   "outputs": [],
   "source": [
    "# data.info()"
   ]
  },
  {
   "cell_type": "code",
   "execution_count": 4,
   "metadata": {},
   "outputs": [],
   "source": [
    "# visualize data\n",
    "# seaborn.pairplot(data[['meanfreq', 'Q25', 'Q75', 'skew', 'centroid', 'label']],hue='label', size=3)"
   ]
  },
  {
   "cell_type": "code",
   "execution_count": 5,
   "metadata": {},
   "outputs": [],
   "source": [
    "# shuffle data (original data had gender arranged in sequence)\n",
    "data = data.sample(frac=1, random_state=42)\n",
    "# data.head()"
   ]
  },
  {
   "cell_type": "code",
   "execution_count": 6,
   "metadata": {},
   "outputs": [],
   "source": [
    "# encode gender label into 0 & 1\n",
    "data['label'] = data['label'].map({'male':1, 'female': 0})\n",
    "# data.head()"
   ]
  },
  {
   "cell_type": "code",
   "execution_count": 7,
   "metadata": {},
   "outputs": [],
   "source": [
    "# input the axes\n",
    "X = data.loc[:, data.columns != 'label']\n",
    "Y = data.loc[:, 'label']\n",
    "# print('X:\\n{}'.format(X))\n",
    "# print('Y:\\n{}'.format(Y))"
   ]
  },
  {
   "cell_type": "code",
   "execution_count": 8,
   "metadata": {},
   "outputs": [],
   "source": [
    "# standard scaling\n",
    "from sklearn.preprocessing import StandardScaler\n",
    "\n",
    "X = StandardScaler().fit_transform(X)\n",
    "# X.head()"
   ]
  },
  {
   "cell_type": "code",
   "execution_count": 9,
   "metadata": {},
   "outputs": [],
   "source": [
    "# train-test split\n",
    "from sklearn.model_selection import train_test_split\n",
    "\n",
    "X_train, X_test, Y_train, Y_test = train_test_split(X, Y, test_size=0.33, random_state=42)"
   ]
  },
  {
   "cell_type": "code",
   "execution_count": 10,
   "metadata": {},
   "outputs": [],
   "source": [
    "# evaluation function\n",
    "from sklearn import metrics\n",
    "\n",
    "def evaluate(model, X_test, Y_test, Y_pred, Y_predproba):\n",
    "    # metrics.plot_confusion_matrix(model, X_test, Y_test, cmap='plasma')\n",
    "    print('Confusion Matrix:\\n{}'.format(metrics.confusion_matrix(Y_test, Y_pred)))\n",
    "    print('Precision: {}'.format(metrics.precision_score(Y_test, Y_pred)))\n",
    "    print('Recall: {}'.format(metrics.recall_score(Y_test, Y_pred)))\n",
    "    print('ROC AUC Score: {}'.format(metrics.roc_auc_score(Y_test, Y_pred)))\n",
    "    print('f1 score: {}'.format(metrics.f1_score(Y_test, Y_pred)))"
   ]
  },
  {
   "cell_type": "code",
   "execution_count": 11,
   "metadata": {},
   "outputs": [
    {
     "output_type": "stream",
     "name": "stdout",
     "text": "Confusion Matrix:\n[[503  15]\n [ 11 517]]\nPrecision: 0.9718045112781954\nRecall: 0.9791666666666666\nROC AUC Score: 0.9751045688545688\nf1 score: 0.9754716981132076\n"
    }
   ],
   "source": [
    "# predict with logistic regression\n",
    "from sklearn.linear_model import LogisticRegression\n",
    "\n",
    "logreg = LogisticRegression(random_state=42, max_iter=150)\n",
    "logreg = logreg.fit(X_train, Y_train)\n",
    "\n",
    "evaluate(logreg, X_test, Y_test, logreg.predict(X_test), logreg.predict_proba(X_test)[:,1])"
   ]
  },
  {
   "cell_type": "code",
   "execution_count": 12,
   "metadata": {},
   "outputs": [
    {
     "output_type": "stream",
     "name": "stdout",
     "text": "Confusion Matrix:\n[[512   6]\n [ 11 517]]\nPrecision: 0.988527724665392\nRecall: 0.9791666666666666\nROC AUC Score: 0.9837918275418275\nf1 score: 0.9838249286393911\n"
    }
   ],
   "source": [
    "# predict with SVM\n",
    "from sklearn.svm import SVC\n",
    "\n",
    "svm = SVC(random_state=42)\n",
    "svm = svm.fit(X_train, Y_train)\n",
    "\n",
    "evaluate(svm, X_test, Y_test, svm.predict(X_test), svm.decision_function(X_test))"
   ]
  },
  {
   "cell_type": "code",
   "execution_count": 13,
   "metadata": {},
   "outputs": [
    {
     "output_type": "stream",
     "name": "stdout",
     "text": "Confusion Matrix:\n[[508  10]\n [ 14 514]]\nPrecision: 0.9809160305343512\nRecall: 0.9734848484848485\nROC AUC Score: 0.9770899145899148\nf1 score: 0.9771863117870723\n"
    }
   ],
   "source": [
    "# predict with random forest classifier\n",
    "from sklearn.ensemble import RandomForestClassifier\n",
    "\n",
    "random_forest = RandomForestClassifier(n_estimators=250, max_depth=15, random_state=42)\n",
    "random_forest = random_forest.fit(X_train, Y_train)\n",
    "\n",
    "evaluate(random_forest, X_test, Y_test, random_forest.predict(X_test), random_forest.predict_proba(X_test)[:,1])"
   ]
  },
  {
   "cell_type": "code",
   "execution_count": 14,
   "metadata": {},
   "outputs": [
    {
     "output_type": "stream",
     "name": "stdout",
     "text": "Confusion Matrix:\n[[498  20]\n [ 17 511]]\nPrecision: 0.9623352165725048\nRecall: 0.9678030303030303\nROC AUC Score: 0.9645964958464959\nf1 score: 0.9650613786591123\n"
    }
   ],
   "source": [
    "#  predict with decision tree classifier\n",
    "from sklearn.tree import DecisionTreeClassifier\n",
    "\n",
    "decision_tree = DecisionTreeClassifier(random_state=42)\n",
    "decision_tree = decision_tree.fit(X_train, Y_train)\n",
    "\n",
    "evaluate(decision_tree, X_test, Y_test, decision_tree.predict(X_test), decision_tree.predict_proba(X_test)[:,1])"
   ]
  },
  {
   "cell_type": "code",
   "execution_count": 15,
   "metadata": {},
   "outputs": [
    {
     "output_type": "stream",
     "name": "stdout",
     "text": "Confusion Matrix:\n[[504  14]\n [  7 521]]\nPrecision: 0.9738317757009346\nRecall: 0.9867424242424242\nROC AUC Score: 0.9798576986076987\nf1 score: 0.980244590780809\n"
    }
   ],
   "source": [
    "# predict with KNN\n",
    "from sklearn.neighbors import KNeighborsClassifier\n",
    "\n",
    "knn = KNeighborsClassifier(n_neighbors=3)\n",
    "knn = knn.fit(X_train, Y_train)\n",
    "\n",
    "evaluate(knn, X_test, Y_test, knn.predict(X_test), knn.predict_proba(X_test)[:,1])"
   ]
  }
 ],
 "metadata": {
  "language_info": {
   "codemirror_mode": {
    "name": "ipython",
    "version": 3
   },
   "file_extension": ".py",
   "mimetype": "text/x-python",
   "name": "python",
   "nbconvert_exporter": "python",
   "pygments_lexer": "ipython3",
   "version": "3.7.9-final"
  },
  "orig_nbformat": 2,
  "kernelspec": {
   "name": "python37964bitvoiceconda2574d362d69f45f882160e275e86e6b9",
   "display_name": "Python 3.7.9 64-bit ('voice': conda)",
   "metadata": {
    "interpreter": {
     "hash": "87fe49135817014968f3dee81874c48505cf7585dac27cc0857d2ffe58c2df4f"
    }
   }
  }
 },
 "nbformat": 4,
 "nbformat_minor": 2
}