{
 "cells": [
  {
   "cell_type": "code",
   "execution_count": 1,
   "metadata": {},
   "outputs": [
    {
     "output_type": "stream",
     "name": "stdout",
     "text": [
      "['voice.csv']\n"
     ]
    }
   ],
   "source": [
    "import numpy as np\n",
    "import pandas as pd\n",
    "import matplotlib.pyplot as plt\n",
    "import seaborn\n",
    "\n",
    "import os\n",
    "print(os.listdir('./dataset/kaggle/kaggle-voice'))"
   ]
  },
  {
   "cell_type": "code",
   "execution_count": 2,
   "metadata": {},
   "outputs": [
    {
     "output_type": "execute_result",
     "data": {
      "text/plain": [
       "   meanfreq        sd    median       Q25       Q75       IQR       skew  \\\n",
       "0  0.059781  0.064241  0.032027  0.015071  0.090193  0.075122  12.863462   \n",
       "1  0.066009  0.067310  0.040229  0.019414  0.092666  0.073252  22.423285   \n",
       "2  0.077316  0.083829  0.036718  0.008701  0.131908  0.123207  30.757155   \n",
       "3  0.151228  0.072111  0.158011  0.096582  0.207955  0.111374   1.232831   \n",
       "4  0.135120  0.079146  0.124656  0.078720  0.206045  0.127325   1.101174   \n",
       "\n",
       "          kurt    sp.ent       sfm  ...  centroid   meanfun    minfun  \\\n",
       "0   274.402906  0.893369  0.491918  ...  0.059781  0.084279  0.015702   \n",
       "1   634.613855  0.892193  0.513724  ...  0.066009  0.107937  0.015826   \n",
       "2  1024.927705  0.846389  0.478905  ...  0.077316  0.098706  0.015656   \n",
       "3     4.177296  0.963322  0.727232  ...  0.151228  0.088965  0.017798   \n",
       "4     4.333713  0.971955  0.783568  ...  0.135120  0.106398  0.016931   \n",
       "\n",
       "     maxfun   meandom    mindom    maxdom   dfrange   modindx  label  \n",
       "0  0.275862  0.007812  0.007812  0.007812  0.000000  0.000000   male  \n",
       "1  0.250000  0.009014  0.007812  0.054688  0.046875  0.052632   male  \n",
       "2  0.271186  0.007990  0.007812  0.015625  0.007812  0.046512   male  \n",
       "3  0.250000  0.201497  0.007812  0.562500  0.554688  0.247119   male  \n",
       "4  0.266667  0.712812  0.007812  5.484375  5.476562  0.208274   male  \n",
       "\n",
       "[5 rows x 21 columns]"
      ],
      "text/html": "<div>\n<style scoped>\n    .dataframe tbody tr th:only-of-type {\n        vertical-align: middle;\n    }\n\n    .dataframe tbody tr th {\n        vertical-align: top;\n    }\n\n    .dataframe thead th {\n        text-align: right;\n    }\n</style>\n<table border=\"1\" class=\"dataframe\">\n  <thead>\n    <tr style=\"text-align: right;\">\n      <th></th>\n      <th>meanfreq</th>\n      <th>sd</th>\n      <th>median</th>\n      <th>Q25</th>\n      <th>Q75</th>\n      <th>IQR</th>\n      <th>skew</th>\n      <th>kurt</th>\n      <th>sp.ent</th>\n      <th>sfm</th>\n      <th>...</th>\n      <th>centroid</th>\n      <th>meanfun</th>\n      <th>minfun</th>\n      <th>maxfun</th>\n      <th>meandom</th>\n      <th>mindom</th>\n      <th>maxdom</th>\n      <th>dfrange</th>\n      <th>modindx</th>\n      <th>label</th>\n    </tr>\n  </thead>\n  <tbody>\n    <tr>\n      <th>0</th>\n      <td>0.059781</td>\n      <td>0.064241</td>\n      <td>0.032027</td>\n      <td>0.015071</td>\n      <td>0.090193</td>\n      <td>0.075122</td>\n      <td>12.863462</td>\n      <td>274.402906</td>\n      <td>0.893369</td>\n      <td>0.491918</td>\n      <td>...</td>\n      <td>0.059781</td>\n      <td>0.084279</td>\n      <td>0.015702</td>\n      <td>0.275862</td>\n      <td>0.007812</td>\n      <td>0.007812</td>\n      <td>0.007812</td>\n      <td>0.000000</td>\n      <td>0.000000</td>\n      <td>male</td>\n    </tr>\n    <tr>\n      <th>1</th>\n      <td>0.066009</td>\n      <td>0.067310</td>\n      <td>0.040229</td>\n      <td>0.019414</td>\n      <td>0.092666</td>\n      <td>0.073252</td>\n      <td>22.423285</td>\n      <td>634.613855</td>\n      <td>0.892193</td>\n      <td>0.513724</td>\n      <td>...</td>\n      <td>0.066009</td>\n      <td>0.107937</td>\n      <td>0.015826</td>\n      <td>0.250000</td>\n      <td>0.009014</td>\n      <td>0.007812</td>\n      <td>0.054688</td>\n      <td>0.046875</td>\n      <td>0.052632</td>\n      <td>male</td>\n    </tr>\n    <tr>\n      <th>2</th>\n      <td>0.077316</td>\n      <td>0.083829</td>\n      <td>0.036718</td>\n      <td>0.008701</td>\n      <td>0.131908</td>\n      <td>0.123207</td>\n      <td>30.757155</td>\n      <td>1024.927705</td>\n      <td>0.846389</td>\n      <td>0.478905</td>\n      <td>...</td>\n      <td>0.077316</td>\n      <td>0.098706</td>\n      <td>0.015656</td>\n      <td>0.271186</td>\n      <td>0.007990</td>\n      <td>0.007812</td>\n      <td>0.015625</td>\n      <td>0.007812</td>\n      <td>0.046512</td>\n      <td>male</td>\n    </tr>\n    <tr>\n      <th>3</th>\n      <td>0.151228</td>\n      <td>0.072111</td>\n      <td>0.158011</td>\n      <td>0.096582</td>\n      <td>0.207955</td>\n      <td>0.111374</td>\n      <td>1.232831</td>\n      <td>4.177296</td>\n      <td>0.963322</td>\n      <td>0.727232</td>\n      <td>...</td>\n      <td>0.151228</td>\n      <td>0.088965</td>\n      <td>0.017798</td>\n      <td>0.250000</td>\n      <td>0.201497</td>\n      <td>0.007812</td>\n      <td>0.562500</td>\n      <td>0.554688</td>\n      <td>0.247119</td>\n      <td>male</td>\n    </tr>\n    <tr>\n      <th>4</th>\n      <td>0.135120</td>\n      <td>0.079146</td>\n      <td>0.124656</td>\n      <td>0.078720</td>\n      <td>0.206045</td>\n      <td>0.127325</td>\n      <td>1.101174</td>\n      <td>4.333713</td>\n      <td>0.971955</td>\n      <td>0.783568</td>\n      <td>...</td>\n      <td>0.135120</td>\n      <td>0.106398</td>\n      <td>0.016931</td>\n      <td>0.266667</td>\n      <td>0.712812</td>\n      <td>0.007812</td>\n      <td>5.484375</td>\n      <td>5.476562</td>\n      <td>0.208274</td>\n      <td>male</td>\n    </tr>\n  </tbody>\n</table>\n<p>5 rows × 21 columns</p>\n</div>"
     },
     "metadata": {},
     "execution_count": 2
    }
   ],
   "source": [
    "# load the csv file\n",
    "data = pd.read_csv('./dataset/kaggle/kaggle-voice/voice.csv')\n",
    "data.head()"
   ]
  },
  {
   "cell_type": "code",
   "execution_count": null,
   "metadata": {},
   "outputs": [],
   "source": [
    "data.info()"
   ]
  },
  {
   "cell_type": "code",
   "execution_count": null,
   "metadata": {},
   "outputs": [],
   "source": [
    "# visualize data\n",
    "seaborn.pairplot(data[['meanfreq', 'Q25', 'Q75', 'skew', 'centroid', 'label']],hue='label', size=3)"
   ]
  },
  {
   "cell_type": "code",
   "execution_count": 3,
   "metadata": {},
   "outputs": [
    {
     "output_type": "execute_result",
     "data": {
      "text/plain": [
       "      meanfreq        sd    median       Q25       Q75       IQR      skew  \\\n",
       "2976  0.179392  0.058349  0.175952  0.147896  0.219987  0.072090  1.652666   \n",
       "1737  0.190951  0.026538  0.187940  0.175205  0.204678  0.029474  3.009522   \n",
       "657   0.159792  0.070599  0.161059  0.109449  0.220085  0.110636  3.043102   \n",
       "3152  0.149731  0.082852  0.180932  0.060212  0.219788  0.159576  1.240037   \n",
       "825   0.183981  0.056717  0.198841  0.141578  0.219130  0.077552  2.013467   \n",
       "\n",
       "           kurt    sp.ent       sfm  ...  centroid   meanfun    minfun  \\\n",
       "2976   6.209452  0.936144  0.535613  ...  0.179392  0.137542  0.025773   \n",
       "1737  13.488562  0.826060  0.108264  ...  0.190951  0.163047  0.026144   \n",
       "657   25.416675  0.949564  0.667946  ...  0.159792  0.111994  0.020000   \n",
       "3152   4.019385  0.949787  0.652936  ...  0.149731  0.183974  0.051948   \n",
       "825    7.925331  0.911970  0.391708  ...  0.183981  0.122804  0.047761   \n",
       "\n",
       "        maxfun   meandom    mindom    maxdom   dfrange   modindx   label  \n",
       "2976  0.200000  0.591227  0.141602  1.401367  1.259766  0.406054  female  \n",
       "1737  0.216216  0.793750  0.179688  6.578125  6.398438  0.178202  female  \n",
       "657   0.164948  0.380859  0.007812  3.773438  3.765625  0.171162    male  \n",
       "3152  0.253968  1.361213  0.203125  6.031250  5.828125  0.365700  female  \n",
       "825   0.269663  1.341518  0.023438  5.414062  5.390625  0.164302    male  \n",
       "\n",
       "[5 rows x 21 columns]"
      ],
      "text/html": "<div>\n<style scoped>\n    .dataframe tbody tr th:only-of-type {\n        vertical-align: middle;\n    }\n\n    .dataframe tbody tr th {\n        vertical-align: top;\n    }\n\n    .dataframe thead th {\n        text-align: right;\n    }\n</style>\n<table border=\"1\" class=\"dataframe\">\n  <thead>\n    <tr style=\"text-align: right;\">\n      <th></th>\n      <th>meanfreq</th>\n      <th>sd</th>\n      <th>median</th>\n      <th>Q25</th>\n      <th>Q75</th>\n      <th>IQR</th>\n      <th>skew</th>\n      <th>kurt</th>\n      <th>sp.ent</th>\n      <th>sfm</th>\n      <th>...</th>\n      <th>centroid</th>\n      <th>meanfun</th>\n      <th>minfun</th>\n      <th>maxfun</th>\n      <th>meandom</th>\n      <th>mindom</th>\n      <th>maxdom</th>\n      <th>dfrange</th>\n      <th>modindx</th>\n      <th>label</th>\n    </tr>\n  </thead>\n  <tbody>\n    <tr>\n      <th>2976</th>\n      <td>0.179392</td>\n      <td>0.058349</td>\n      <td>0.175952</td>\n      <td>0.147896</td>\n      <td>0.219987</td>\n      <td>0.072090</td>\n      <td>1.652666</td>\n      <td>6.209452</td>\n      <td>0.936144</td>\n      <td>0.535613</td>\n      <td>...</td>\n      <td>0.179392</td>\n      <td>0.137542</td>\n      <td>0.025773</td>\n      <td>0.200000</td>\n      <td>0.591227</td>\n      <td>0.141602</td>\n      <td>1.401367</td>\n      <td>1.259766</td>\n      <td>0.406054</td>\n      <td>female</td>\n    </tr>\n    <tr>\n      <th>1737</th>\n      <td>0.190951</td>\n      <td>0.026538</td>\n      <td>0.187940</td>\n      <td>0.175205</td>\n      <td>0.204678</td>\n      <td>0.029474</td>\n      <td>3.009522</td>\n      <td>13.488562</td>\n      <td>0.826060</td>\n      <td>0.108264</td>\n      <td>...</td>\n      <td>0.190951</td>\n      <td>0.163047</td>\n      <td>0.026144</td>\n      <td>0.216216</td>\n      <td>0.793750</td>\n      <td>0.179688</td>\n      <td>6.578125</td>\n      <td>6.398438</td>\n      <td>0.178202</td>\n      <td>female</td>\n    </tr>\n    <tr>\n      <th>657</th>\n      <td>0.159792</td>\n      <td>0.070599</td>\n      <td>0.161059</td>\n      <td>0.109449</td>\n      <td>0.220085</td>\n      <td>0.110636</td>\n      <td>3.043102</td>\n      <td>25.416675</td>\n      <td>0.949564</td>\n      <td>0.667946</td>\n      <td>...</td>\n      <td>0.159792</td>\n      <td>0.111994</td>\n      <td>0.020000</td>\n      <td>0.164948</td>\n      <td>0.380859</td>\n      <td>0.007812</td>\n      <td>3.773438</td>\n      <td>3.765625</td>\n      <td>0.171162</td>\n      <td>male</td>\n    </tr>\n    <tr>\n      <th>3152</th>\n      <td>0.149731</td>\n      <td>0.082852</td>\n      <td>0.180932</td>\n      <td>0.060212</td>\n      <td>0.219788</td>\n      <td>0.159576</td>\n      <td>1.240037</td>\n      <td>4.019385</td>\n      <td>0.949787</td>\n      <td>0.652936</td>\n      <td>...</td>\n      <td>0.149731</td>\n      <td>0.183974</td>\n      <td>0.051948</td>\n      <td>0.253968</td>\n      <td>1.361213</td>\n      <td>0.203125</td>\n      <td>6.031250</td>\n      <td>5.828125</td>\n      <td>0.365700</td>\n      <td>female</td>\n    </tr>\n    <tr>\n      <th>825</th>\n      <td>0.183981</td>\n      <td>0.056717</td>\n      <td>0.198841</td>\n      <td>0.141578</td>\n      <td>0.219130</td>\n      <td>0.077552</td>\n      <td>2.013467</td>\n      <td>7.925331</td>\n      <td>0.911970</td>\n      <td>0.391708</td>\n      <td>...</td>\n      <td>0.183981</td>\n      <td>0.122804</td>\n      <td>0.047761</td>\n      <td>0.269663</td>\n      <td>1.341518</td>\n      <td>0.023438</td>\n      <td>5.414062</td>\n      <td>5.390625</td>\n      <td>0.164302</td>\n      <td>male</td>\n    </tr>\n  </tbody>\n</table>\n<p>5 rows × 21 columns</p>\n</div>"
     },
     "metadata": {},
     "execution_count": 3
    }
   ],
   "source": [
    "# shuffle data (original data had gender arranged in sequence)\n",
    "data = data.sample(frac=1)\n",
    "data.head()"
   ]
  },
  {
   "cell_type": "code",
   "execution_count": 4,
   "metadata": {},
   "outputs": [
    {
     "output_type": "execute_result",
     "data": {
      "text/plain": [
       "      meanfreq        sd    median       Q25       Q75       IQR      skew  \\\n",
       "2976  0.179392  0.058349  0.175952  0.147896  0.219987  0.072090  1.652666   \n",
       "1737  0.190951  0.026538  0.187940  0.175205  0.204678  0.029474  3.009522   \n",
       "657   0.159792  0.070599  0.161059  0.109449  0.220085  0.110636  3.043102   \n",
       "3152  0.149731  0.082852  0.180932  0.060212  0.219788  0.159576  1.240037   \n",
       "825   0.183981  0.056717  0.198841  0.141578  0.219130  0.077552  2.013467   \n",
       "\n",
       "           kurt    sp.ent       sfm  ...  centroid   meanfun    minfun  \\\n",
       "2976   6.209452  0.936144  0.535613  ...  0.179392  0.137542  0.025773   \n",
       "1737  13.488562  0.826060  0.108264  ...  0.190951  0.163047  0.026144   \n",
       "657   25.416675  0.949564  0.667946  ...  0.159792  0.111994  0.020000   \n",
       "3152   4.019385  0.949787  0.652936  ...  0.149731  0.183974  0.051948   \n",
       "825    7.925331  0.911970  0.391708  ...  0.183981  0.122804  0.047761   \n",
       "\n",
       "        maxfun   meandom    mindom    maxdom   dfrange   modindx  label  \n",
       "2976  0.200000  0.591227  0.141602  1.401367  1.259766  0.406054      0  \n",
       "1737  0.216216  0.793750  0.179688  6.578125  6.398438  0.178202      0  \n",
       "657   0.164948  0.380859  0.007812  3.773438  3.765625  0.171162      1  \n",
       "3152  0.253968  1.361213  0.203125  6.031250  5.828125  0.365700      0  \n",
       "825   0.269663  1.341518  0.023438  5.414062  5.390625  0.164302      1  \n",
       "\n",
       "[5 rows x 21 columns]"
      ],
      "text/html": "<div>\n<style scoped>\n    .dataframe tbody tr th:only-of-type {\n        vertical-align: middle;\n    }\n\n    .dataframe tbody tr th {\n        vertical-align: top;\n    }\n\n    .dataframe thead th {\n        text-align: right;\n    }\n</style>\n<table border=\"1\" class=\"dataframe\">\n  <thead>\n    <tr style=\"text-align: right;\">\n      <th></th>\n      <th>meanfreq</th>\n      <th>sd</th>\n      <th>median</th>\n      <th>Q25</th>\n      <th>Q75</th>\n      <th>IQR</th>\n      <th>skew</th>\n      <th>kurt</th>\n      <th>sp.ent</th>\n      <th>sfm</th>\n      <th>...</th>\n      <th>centroid</th>\n      <th>meanfun</th>\n      <th>minfun</th>\n      <th>maxfun</th>\n      <th>meandom</th>\n      <th>mindom</th>\n      <th>maxdom</th>\n      <th>dfrange</th>\n      <th>modindx</th>\n      <th>label</th>\n    </tr>\n  </thead>\n  <tbody>\n    <tr>\n      <th>2976</th>\n      <td>0.179392</td>\n      <td>0.058349</td>\n      <td>0.175952</td>\n      <td>0.147896</td>\n      <td>0.219987</td>\n      <td>0.072090</td>\n      <td>1.652666</td>\n      <td>6.209452</td>\n      <td>0.936144</td>\n      <td>0.535613</td>\n      <td>...</td>\n      <td>0.179392</td>\n      <td>0.137542</td>\n      <td>0.025773</td>\n      <td>0.200000</td>\n      <td>0.591227</td>\n      <td>0.141602</td>\n      <td>1.401367</td>\n      <td>1.259766</td>\n      <td>0.406054</td>\n      <td>0</td>\n    </tr>\n    <tr>\n      <th>1737</th>\n      <td>0.190951</td>\n      <td>0.026538</td>\n      <td>0.187940</td>\n      <td>0.175205</td>\n      <td>0.204678</td>\n      <td>0.029474</td>\n      <td>3.009522</td>\n      <td>13.488562</td>\n      <td>0.826060</td>\n      <td>0.108264</td>\n      <td>...</td>\n      <td>0.190951</td>\n      <td>0.163047</td>\n      <td>0.026144</td>\n      <td>0.216216</td>\n      <td>0.793750</td>\n      <td>0.179688</td>\n      <td>6.578125</td>\n      <td>6.398438</td>\n      <td>0.178202</td>\n      <td>0</td>\n    </tr>\n    <tr>\n      <th>657</th>\n      <td>0.159792</td>\n      <td>0.070599</td>\n      <td>0.161059</td>\n      <td>0.109449</td>\n      <td>0.220085</td>\n      <td>0.110636</td>\n      <td>3.043102</td>\n      <td>25.416675</td>\n      <td>0.949564</td>\n      <td>0.667946</td>\n      <td>...</td>\n      <td>0.159792</td>\n      <td>0.111994</td>\n      <td>0.020000</td>\n      <td>0.164948</td>\n      <td>0.380859</td>\n      <td>0.007812</td>\n      <td>3.773438</td>\n      <td>3.765625</td>\n      <td>0.171162</td>\n      <td>1</td>\n    </tr>\n    <tr>\n      <th>3152</th>\n      <td>0.149731</td>\n      <td>0.082852</td>\n      <td>0.180932</td>\n      <td>0.060212</td>\n      <td>0.219788</td>\n      <td>0.159576</td>\n      <td>1.240037</td>\n      <td>4.019385</td>\n      <td>0.949787</td>\n      <td>0.652936</td>\n      <td>...</td>\n      <td>0.149731</td>\n      <td>0.183974</td>\n      <td>0.051948</td>\n      <td>0.253968</td>\n      <td>1.361213</td>\n      <td>0.203125</td>\n      <td>6.031250</td>\n      <td>5.828125</td>\n      <td>0.365700</td>\n      <td>0</td>\n    </tr>\n    <tr>\n      <th>825</th>\n      <td>0.183981</td>\n      <td>0.056717</td>\n      <td>0.198841</td>\n      <td>0.141578</td>\n      <td>0.219130</td>\n      <td>0.077552</td>\n      <td>2.013467</td>\n      <td>7.925331</td>\n      <td>0.911970</td>\n      <td>0.391708</td>\n      <td>...</td>\n      <td>0.183981</td>\n      <td>0.122804</td>\n      <td>0.047761</td>\n      <td>0.269663</td>\n      <td>1.341518</td>\n      <td>0.023438</td>\n      <td>5.414062</td>\n      <td>5.390625</td>\n      <td>0.164302</td>\n      <td>1</td>\n    </tr>\n  </tbody>\n</table>\n<p>5 rows × 21 columns</p>\n</div>"
     },
     "metadata": {},
     "execution_count": 4
    }
   ],
   "source": [
    "# encode gender label into 0 & 1\n",
    "data['label'] = data['label'].map({'male':1, 'female': 0})\n",
    "data.head()"
   ]
  },
  {
   "cell_type": "code",
   "execution_count": 6,
   "metadata": {},
   "outputs": [
    {
     "output_type": "stream",
     "name": "stdout",
     "text": [
      "X:\n      meanfreq        sd    median       Q25       Q75       IQR      skew  \\\n2976  0.179392  0.058349  0.175952  0.147896  0.219987  0.072090  1.652666   \n1737  0.190951  0.026538  0.187940  0.175205  0.204678  0.029474  3.009522   \n657   0.159792  0.070599  0.161059  0.109449  0.220085  0.110636  3.043102   \n3152  0.149731  0.082852  0.180932  0.060212  0.219788  0.159576  1.240037   \n825   0.183981  0.056717  0.198841  0.141578  0.219130  0.077552  2.013467   \n...        ...       ...       ...       ...       ...       ...       ...   \n1401  0.191887  0.051665  0.189096  0.156937  0.235406  0.078469  1.049718   \n2418  0.224344  0.038189  0.228889  0.205333  0.248000  0.042667  1.640692   \n141   0.119213  0.078286  0.103415  0.053820  0.189484  0.135663  1.985510   \n2273  0.216809  0.040454  0.223929  0.207857  0.238571  0.030714  2.439290   \n548   0.164710  0.067818  0.169601  0.098267  0.228562  0.130295  1.437014   \n\n           kurt    sp.ent       sfm      mode  centroid   meanfun    minfun  \\\n2976   6.209452  0.936144  0.535613  0.158115  0.179392  0.137542  0.025773   \n1737  13.488562  0.826060  0.108264  0.178843  0.190951  0.163047  0.026144   \n657   25.416675  0.949564  0.667946  0.000000  0.159792  0.111994  0.020000   \n3152   4.019385  0.949787  0.652936  0.000000  0.149731  0.183974  0.051948   \n825    7.925331  0.911970  0.391708  0.208760  0.183981  0.122804  0.047761   \n...         ...       ...       ...       ...       ...       ...       ...   \n1401   3.931440  0.920760  0.379223  0.183093  0.191887  0.118590  0.046967   \n2418   4.947479  0.858787  0.234145  0.235111  0.224344  0.174055  0.047572   \n141    8.394248  0.962887  0.749296  0.098078  0.119213  0.104030  0.018244   \n2273   9.146365  0.841355  0.234533  0.231786  0.216809  0.176909  0.048387   \n548    4.798001  0.947678  0.634990  0.160867  0.164710  0.085799  0.015748   \n\n        maxfun   meandom    mindom     maxdom    dfrange   modindx  \n2976  0.200000  0.591227  0.141602   1.401367   1.259766  0.406054  \n1737  0.216216  0.793750  0.179688   6.578125   6.398438  0.178202  \n657   0.164948  0.380859  0.007812   3.773438   3.765625  0.171162  \n3152  0.253968  1.361213  0.203125   6.031250   5.828125  0.365700  \n825   0.269663  1.341518  0.023438   5.414062   5.390625  0.164302  \n...        ...       ...       ...        ...        ...       ...  \n1401  0.275862  1.332371  0.140625   8.929688   8.789062  0.098032  \n2418  0.277457  1.835258  0.023438  10.171875  10.148438  0.104561  \n141   0.271186  0.466974  0.007812   4.390625   4.382812  0.126649  \n2273  0.268156  1.150026  0.023438   9.515625   9.492188  0.051807  \n548   0.266667  0.784647  0.007812   5.750000   5.742188  0.219566  \n\n[3168 rows x 20 columns]\nY:\n2976    0\n1737    0\n657     1\n3152    0\n825     1\n       ..\n1401    1\n2418    0\n141     1\n2273    0\n548     1\nName: label, Length: 3168, dtype: int64\n"
     ]
    }
   ],
   "source": [
    "# input the axes\n",
    "X = data.loc[:, data.columns != 'label']\n",
    "Y = data.loc[:, 'label']\n",
    "print('X:\\n{}'.format(X))\n",
    "print('Y:\\n{}'.format(Y))"
   ]
  },
  {
   "cell_type": "code",
   "execution_count": 7,
   "metadata": {},
   "outputs": [],
   "source": [
    "# standard scaling\n",
    "from sklearn.preprocessing import StandardScaler\n",
    "\n",
    "X = StandardScaler().fit_transform(X)"
   ]
  },
  {
   "cell_type": "code",
   "execution_count": 8,
   "metadata": {},
   "outputs": [],
   "source": [
    "# train-test split\n",
    "from sklearn.model_selection import train_test_split\n",
    "\n",
    "X_train, X_test, Y_train, Y_test = train_test_split(X, Y, test_size=0.33, random_state=42)"
   ]
  },
  {
   "cell_type": "code",
   "execution_count": 9,
   "metadata": {},
   "outputs": [
    {
     "output_type": "stream",
     "name": "stdout",
     "text": [
      "train accuracy: 0.9783223374175306\ntest accuracy: 0.9674952198852772\n"
     ]
    }
   ],
   "source": [
    "# predict with logistic regression\n",
    "from sklearn import linear_model\n",
    "\n",
    "logreg = linear_model.LogisticRegression(random_state=42, max_iter=150)\n",
    "print('train accuracy: {}'.format(logreg.fit(X_train, Y_train).score(X_train, Y_train)))\n",
    "print('test accuracy: {}'.format(logreg.fit(X_train, Y_train).score(X_test, Y_test)))"
   ]
  },
  {
   "cell_type": "code",
   "execution_count": 10,
   "metadata": {},
   "outputs": [
    {
     "output_type": "stream",
     "name": "stdout",
     "text": [
      "train accuracy: 0.9872761545711592\ntest accuracy: 0.9770554493307839\n"
     ]
    }
   ],
   "source": [
    "# predict with SVM\n",
    "from sklearn.svm import SVC\n",
    "\n",
    "svm = SVC(random_state=42)\n",
    "print('train accuracy: {}'.format(svm.fit(X_train, Y_train).score(X_train, Y_train)))\n",
    "print('test accuracy: {}'.format(svm.fit(X_train, Y_train).score(X_test, Y_test)))"
   ]
  },
  {
   "cell_type": "code",
   "execution_count": 11,
   "metadata": {},
   "outputs": [
    {
     "output_type": "stream",
     "name": "stdout",
     "text": [
      "train accuracy: 1.0\n",
      "test accuracy: 0.9789674952198852\n"
     ]
    }
   ],
   "source": [
    "# predict with random forest classifier\n",
    "from sklearn.ensemble import RandomForestClassifier\n",
    "\n",
    "random_forest = RandomForestClassifier(n_estimators=250, max_depth=15, random_state=42)\n",
    "print('train accuracy: {}'.format(random_forest.fit(X_train, Y_train).score(X_train, Y_train)))\n",
    "print('test accuracy: {}'.format(random_forest.fit(X_train, Y_train).score(X_test, Y_test)))"
   ]
  },
  {
   "cell_type": "code",
   "execution_count": 12,
   "metadata": {},
   "outputs": [
    {
     "output_type": "stream",
     "name": "stdout",
     "text": [
      "train accuracy: 1.0\ntest accuracy: 0.9598470363288719\n"
     ]
    }
   ],
   "source": [
    "#  predict with decision tree classifier\n",
    "from sklearn.tree import DecisionTreeClassifier\n",
    "\n",
    "decision_tree = DecisionTreeClassifier()\n",
    "print('train accuracy: {}'.format(decision_tree.fit(X_train, Y_train).score(X_train, Y_train)))\n",
    "print('test accuracy: {}'.format(decision_tree.fit(X_train, Y_train).score(X_test, Y_test)))"
   ]
  },
  {
   "cell_type": "code",
   "execution_count": 13,
   "metadata": {},
   "outputs": [
    {
     "output_type": "stream",
     "name": "stdout",
     "text": [
      "train accuracy: 0.9877474081055608\ntest accuracy: 0.9770554493307839\n"
     ]
    }
   ],
   "source": [
    "# predict with KNN\n",
    "from sklearn.neighbors import KNeighborsClassifier\n",
    "\n",
    "knn = KNeighborsClassifier(n_neighbors=3)\n",
    "print('train accuracy: {}'.format(knn.fit(X_train, Y_train).score(X_train, Y_train)))\n",
    "print('test accuracy: {}'.format(knn.fit(X_train, Y_train).score(X_test, Y_test)))"
   ]
  },
  {
   "cell_type": "code",
   "execution_count": 14,
   "metadata": {},
   "outputs": [
    {
     "output_type": "stream",
     "name": "stdout",
     "text": [
      "train accuracy: 0.8897266729500471\ntest accuracy: 0.8833652007648184\n"
     ]
    }
   ],
   "source": [
    "# predict with Naive Bayes\n",
    "\n",
    "from sklearn.naive_bayes import GaussianNB\n",
    "\n",
    "naive_bayes = GaussianNB()\n",
    "print('train accuracy: {}'.format(naive_bayes.fit(X_train, Y_train).score(X_train, Y_train)))\n",
    "print('test accuracy: {}'.format(naive_bayes.fit(X_train, Y_train).score(X_test, Y_test)))"
   ]
  },
  {
   "cell_type": "code",
   "execution_count": null,
   "metadata": {},
   "outputs": [],
   "source": [
    "# # predict with PCA\n",
    "# from sklearn.decomposition import PCA\n",
    "\n",
    "# pca = PCA()\n",
    "# print('train accuracy: {}'.format(pca.fit(X_train, Y_train).score(X_train, Y_train)))\n",
    "# print('test accuracy: {}'.format(pca.fit(X_train, Y_train).score(X_test, Y_test)))"
   ]
  }
 ],
 "metadata": {
  "language_info": {
   "codemirror_mode": {
    "name": "ipython",
    "version": 3
   },
   "file_extension": ".py",
   "mimetype": "text/x-python",
   "name": "python",
   "nbconvert_exporter": "python",
   "pygments_lexer": "ipython3",
   "version": "3.7.9-final"
  },
  "orig_nbformat": 2,
  "kernelspec": {
   "name": "python3",
   "display_name": "Python 3.7.9 64-bit ('voice': conda)",
   "metadata": {
    "interpreter": {
     "hash": "87fe49135817014968f3dee81874c48505cf7585dac27cc0857d2ffe58c2df4f"
    }
   }
  }
 },
 "nbformat": 4,
 "nbformat_minor": 2
}